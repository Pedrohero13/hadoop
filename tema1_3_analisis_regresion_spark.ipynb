{
  "nbformat": 4,
  "nbformat_minor": 0,
  "metadata": {
    "colab": {
      "name": "tema1_3_analisis_regresion_spark.ipynb",
      "provenance": [],
      "include_colab_link": true
    },
    "kernelspec": {
      "name": "python3",
      "display_name": "Python 3"
    },
    "language_info": {
      "name": "python"
    }
  },
  "cells": [
    {
      "cell_type": "markdown",
      "metadata": {
        "id": "view-in-github",
        "colab_type": "text"
      },
      "source": [
        "<a href=\"https://colab.research.google.com/github/Pedrohero13/hadoop/blob/main/tema1_3_analisis_regresion_spark.ipynb\" target=\"_parent\"><img src=\"https://colab.research.google.com/assets/colab-badge.svg\" alt=\"Open In Colab\"/></a>"
      ]
    },
    {
      "cell_type": "code",
      "execution_count": null,
      "metadata": {
        "id": "eoxLSv0BsLXi"
      },
      "outputs": [],
      "source": [
        "!apt-get install openjdk-8-jdk-headless -qq > /dev/null\n",
        "!wget -q https://downloads.apache.org/spark/spark-2.4.8/spark-2.4.8-bin-hadoop2.7.tgz\n",
        "!tar xf spark-2.4.8-bin-hadoop2.7.tgz\n",
        "!pip install -q findspark"
      ]
    },
    {
      "cell_type": "code",
      "source": [
        "import os\n",
        "os.environ[\"JAVA_HOME\"] = \"/usr/lib/jvm/java-8-openjdk-amd64\"\n",
        "os.environ[\"SPARK_HOME\"] = \"/content/spark-2.4.8-bin-hadoop2.7\""
      ],
      "metadata": {
        "id": "z7D5KiJHtyx2"
      },
      "execution_count": null,
      "outputs": []
    },
    {
      "cell_type": "code",
      "source": [
        "!java --version"
      ],
      "metadata": {
        "colab": {
          "base_uri": "https://localhost:8080/"
        },
        "id": "gulpjJx5xro7",
        "outputId": "5d4cd2d8-33e3-462c-f5be-836723514ce5"
      },
      "execution_count": null,
      "outputs": [
        {
          "output_type": "stream",
          "name": "stdout",
          "text": [
            "openjdk 11.0.15 2022-04-19\n",
            "OpenJDK Runtime Environment (build 11.0.15+10-Ubuntu-0ubuntu0.18.04.1)\n",
            "OpenJDK 64-Bit Server VM (build 11.0.15+10-Ubuntu-0ubuntu0.18.04.1, mixed mode, sharing)\n"
          ]
        }
      ]
    },
    {
      "cell_type": "code",
      "source": [
        "!echo $JAVA_HOME"
      ],
      "metadata": {
        "colab": {
          "base_uri": "https://localhost:8080/"
        },
        "id": "p_9EocOixuyo",
        "outputId": "86775d7f-0975-4670-82e9-563da01b594d"
      },
      "execution_count": null,
      "outputs": [
        {
          "output_type": "stream",
          "name": "stdout",
          "text": [
            "/usr/lib/jvm/java-8-openjdk-amd64\n"
          ]
        }
      ]
    },
    {
      "cell_type": "code",
      "source": [
        "!echo $SPARK_HOME"
      ],
      "metadata": {
        "id": "P_Pm53MXv3jr",
        "colab": {
          "base_uri": "https://localhost:8080/"
        },
        "outputId": "12ed64e4-f95b-4895-b307-f995772021db"
      },
      "execution_count": null,
      "outputs": [
        {
          "output_type": "stream",
          "name": "stdout",
          "text": [
            "/content/spark-2.4.8-bin-hadoop2.7\n"
          ]
        }
      ]
    },
    {
      "cell_type": "code",
      "source": [
        "import findspark\n",
        "findspark.init()\n",
        "from google.colab import files\n",
        "from pyspark import SparkContext, SparkConf,SQLContext,HiveContext\n",
        "from pyspark.sql import SparkSession\n",
        "spark = SparkSession.builder.master(\"local[*]\").getOrCreate()\n",
        "from pyspark.sql.functions import isnan, when, count, col, lit\n",
        "import pandas as pd \n",
        "import numpy as np\n",
        "import matplotlib.pyplot as plt "
      ],
      "metadata": {
        "id": "NChRAX28yoNk"
      },
      "execution_count": null,
      "outputs": []
    },
    {
      "cell_type": "code",
      "source": [
        "spark = SparkSession \\\n",
        "    .builder \\\n",
        "    .getOrCreate()"
      ],
      "metadata": {
        "id": "GqlJHM7bTfE5"
      },
      "execution_count": null,
      "outputs": []
    },
    {
      "cell_type": "code",
      "source": [
        "spark.version"
      ],
      "metadata": {
        "colab": {
          "base_uri": "https://localhost:8080/",
          "height": 35
        },
        "id": "Nxb_lVPBTk3W",
        "outputId": "0b41aea6-df6f-4658-f278-d670ceef04bc"
      },
      "execution_count": null,
      "outputs": [
        {
          "output_type": "execute_result",
          "data": {
            "text/plain": [
              "'2.4.8'"
            ],
            "application/vnd.google.colaboratory.intrinsic+json": {
              "type": "string"
            }
          },
          "metadata": {},
          "execution_count": 8
        }
      ]
    },
    {
      "cell_type": "code",
      "source": [
        "path_csv=\"/content/BostonHousing.csv\"\n",
        "dataset=spark.read.csv(path_csv,inferSchema=True,header=True)\n",
        "\n",
        "dataset.printSchema()"
      ],
      "metadata": {
        "colab": {
          "base_uri": "https://localhost:8080/"
        },
        "id": "NnOCJ-RFTpyY",
        "outputId": "3dafde12-ee69-49d5-e595-f059ab25328c"
      },
      "execution_count": null,
      "outputs": [
        {
          "output_type": "stream",
          "name": "stdout",
          "text": [
            "root\n",
            " |-- crim: double (nullable = true)\n",
            " |-- zn: double (nullable = true)\n",
            " |-- indus: double (nullable = true)\n",
            " |-- chas: integer (nullable = true)\n",
            " |-- nox: double (nullable = true)\n",
            " |-- rm: double (nullable = true)\n",
            " |-- age: double (nullable = true)\n",
            " |-- dis: double (nullable = true)\n",
            " |-- rad: integer (nullable = true)\n",
            " |-- tax: integer (nullable = true)\n",
            " |-- ptratio: double (nullable = true)\n",
            " |-- black: double (nullable = true)\n",
            " |-- lstat: double (nullable = true)\n",
            " |-- medv: double (nullable = true)\n",
            "\n"
          ]
        }
      ]
    },
    {
      "cell_type": "code",
      "source": [
        "from pyspark.ml.feature import VectorAssembler\n",
        "from pyspark.ml.regression import LinearRegression"
      ],
      "metadata": {
        "id": "kmE_JU-jVSNz"
      },
      "execution_count": null,
      "outputs": []
    },
    {
      "cell_type": "code",
      "source": [
        "assembler = VectorAssembler(inputCols=['crim','zn','indus','chas','nox','rm','age','dis','rad','tax','ptratio','black','lstat'],outputCol='Atributes')\n",
        "output=assembler.transform(dataset)"
      ],
      "metadata": {
        "id": "gC1eZRwxV87A"
      },
      "execution_count": null,
      "outputs": []
    },
    {
      "cell_type": "code",
      "source": [
        "finalized_data=output.select(\"Atributes\",\"medv\")\n",
        "finalized_data.show(10)"
      ],
      "metadata": {
        "colab": {
          "base_uri": "https://localhost:8080/"
        },
        "id": "zo6MnilQaRCV",
        "outputId": "0ef2197d-fe4f-42bc-e203-f71ddf501156"
      },
      "execution_count": null,
      "outputs": [
        {
          "output_type": "stream",
          "name": "stdout",
          "text": [
            "+--------------------+----+\n",
            "|           Atributes|medv|\n",
            "+--------------------+----+\n",
            "|[0.00632,18.0,2.3...|24.0|\n",
            "|[0.02731,0.0,7.07...|21.6|\n",
            "|[0.02729,0.0,7.07...|34.7|\n",
            "|[0.03237,0.0,2.18...|33.4|\n",
            "|[0.06905,0.0,2.18...|36.2|\n",
            "|[0.02985,0.0,2.18...|28.7|\n",
            "|[0.08829,12.5,7.8...|22.9|\n",
            "|[0.14455,12.5,7.8...|27.1|\n",
            "|[0.21124,12.5,7.8...|16.5|\n",
            "|[0.17004,12.5,7.8...|18.9|\n",
            "+--------------------+----+\n",
            "only showing top 10 rows\n",
            "\n"
          ]
        }
      ]
    },
    {
      "cell_type": "code",
      "source": [
        "train_data,test_data=finalized_data.randomSplit([0.8,0.2])"
      ],
      "metadata": {
        "id": "SOkHlZ4uap2J"
      },
      "execution_count": null,
      "outputs": []
    },
    {
      "cell_type": "code",
      "source": [
        "regressor=LinearRegression(featuresCol='Atributes',labelCol='medv')\n",
        "\n",
        "regressor=regressor.fit(train_data)\n",
        "\n",
        "print(\"The coefficient of the model is: %a\", regressor.coefficients)\n",
        "print(\"The Intercept of the model is: %f\", regressor.intercept)"
      ],
      "metadata": {
        "colab": {
          "base_uri": "https://localhost:8080/"
        },
        "id": "7Z5vtUoQbQaR",
        "outputId": "45a66bb4-c4ad-435e-dbca-d83647ab0b03"
      },
      "execution_count": null,
      "outputs": [
        {
          "output_type": "stream",
          "name": "stdout",
          "text": [
            "The coefficient of the model is: %a [-0.13396044107045607,0.042143405616880285,0.019212540765338404,2.3213536334196703,-17.851009885362885,3.7130238429373392,-3.349943561358203e-05,-1.5416932461288662,0.33456923717206105,-0.011377065053121416,-0.9999879493341078,0.011508379802387406,-0.552178963514392]\n",
            "The Intercept of the model is: %f 37.4230425755322\n"
          ]
        }
      ]
    },
    {
      "cell_type": "code",
      "source": [
        "Pred_lr=regressor.evaluate(test_data)\n",
        "\n",
        "Pred_lr.predictions.show(10)"
      ],
      "metadata": {
        "colab": {
          "base_uri": "https://localhost:8080/"
        },
        "id": "D2L1hYmOdCT1",
        "outputId": "945c03aa-d141-4444-e211-2c125e3cdf9e"
      },
      "execution_count": null,
      "outputs": [
        {
          "output_type": "stream",
          "name": "stdout",
          "text": [
            "+--------------------+----+------------------+\n",
            "|           Atributes|medv|        prediction|\n",
            "+--------------------+----+------------------+\n",
            "|[0.00906,90.0,2.9...|32.2|31.183266728655852|\n",
            "|[0.01301,35.0,1.5...|32.7| 30.18447174792808|\n",
            "|[0.01709,90.0,2.0...|30.1| 24.70347315819367|\n",
            "|[0.02009,95.0,2.6...|50.0| 42.98095196677993|\n",
            "|[0.03113,0.0,4.39...|17.5| 16.40991120977308|\n",
            "|[0.03615,80.0,4.9...|27.9|31.599753926764386|\n",
            "|[0.03738,0.0,5.19...|20.7|21.474279318459665|\n",
            "|[0.04544,0.0,3.24...|19.8|21.792869254140193|\n",
            "|[0.0456,0.0,13.89...|23.3|26.443126886080833|\n",
            "|[0.04666,80.0,1.5...|30.3|  32.3741670176177|\n",
            "+--------------------+----+------------------+\n",
            "only showing top 10 rows\n",
            "\n"
          ]
        }
      ]
    },
    {
      "cell_type": "code",
      "source": [
        "from pyspark.ml.regression import RandomForestRegressor\n",
        "rfr = RandomForestRegressor(featuresCol=\"Atributes\",labelCol=\"medv\")"
      ],
      "metadata": {
        "id": "tgp3oHapd3bD"
      },
      "execution_count": null,
      "outputs": []
    },
    {
      "cell_type": "code",
      "source": [
        "rfr=rfr.fit(train_data)\n",
        "pred_rfr=rfr.transform(test_data)\n",
        "\n",
        "pred_rfr.select('Atributes','medv','prediction').show(10)"
      ],
      "metadata": {
        "colab": {
          "base_uri": "https://localhost:8080/"
        },
        "id": "104AQ3iofBNd",
        "outputId": "bf0b001f-898b-49fe-bf29-4fc2eaaf3982"
      },
      "execution_count": null,
      "outputs": [
        {
          "output_type": "stream",
          "name": "stdout",
          "text": [
            "+--------------------+----+------------------+\n",
            "|           Atributes|medv|        prediction|\n",
            "+--------------------+----+------------------+\n",
            "|[0.00906,90.0,2.9...|32.2| 30.55199685947602|\n",
            "|[0.01301,35.0,1.5...|32.7|30.586862489161184|\n",
            "|[0.01709,90.0,2.0...|30.1|28.596951140348533|\n",
            "|[0.02009,95.0,2.6...|50.0| 46.11686232517482|\n",
            "|[0.03113,0.0,4.39...|17.5|20.926658193898618|\n",
            "|[0.03615,80.0,4.9...|27.9|25.939009276790216|\n",
            "|[0.03738,0.0,5.19...|20.7|23.885501052285814|\n",
            "|[0.04544,0.0,3.24...|19.8|22.771016502160126|\n",
            "|[0.0456,0.0,13.89...|23.3|20.211470080069482|\n",
            "|[0.04666,80.0,1.5...|30.3|32.665093503609526|\n",
            "+--------------------+----+------------------+\n",
            "only showing top 10 rows\n",
            "\n"
          ]
        }
      ]
    },
    {
      "cell_type": "code",
      "source": [
        "from pyspark.ml.regression import GBTRegressor\n",
        "gbt=GBTRegressor(featuresCol='Atributes',labelCol='medv')\n",
        "\n",
        "gbt=gbt.fit(train_data)\n",
        "\n",
        "pred_gbt=gbt.transform(test_data)\n",
        "\n",
        "pred_gbt.select('Atributes','medv','prediction').show(10)"
      ],
      "metadata": {
        "colab": {
          "base_uri": "https://localhost:8080/"
        },
        "id": "fTA7-bXHgaNp",
        "outputId": "8ddb698f-00fc-4263-ceda-c5607eb8f80f"
      },
      "execution_count": null,
      "outputs": [
        {
          "output_type": "stream",
          "name": "stdout",
          "text": [
            "+--------------------+----+------------------+\n",
            "|           Atributes|medv|        prediction|\n",
            "+--------------------+----+------------------+\n",
            "|[0.00906,90.0,2.9...|32.2| 36.16471997676015|\n",
            "|[0.01301,35.0,1.5...|32.7|34.596725019940706|\n",
            "|[0.01709,90.0,2.0...|30.1| 33.64492465750046|\n",
            "|[0.02009,95.0,2.6...|50.0| 48.43475604783278|\n",
            "|[0.03113,0.0,4.39...|17.5| 19.79058841037358|\n",
            "|[0.03615,80.0,4.9...|27.9| 30.55149052708153|\n",
            "|[0.03738,0.0,5.19...|20.7|23.859847361922814|\n",
            "|[0.04544,0.0,3.24...|19.8|20.734666969799925|\n",
            "|[0.0456,0.0,13.89...|23.3|21.645428129127936|\n",
            "|[0.04666,80.0,1.5...|30.3| 32.65211394722216|\n",
            "+--------------------+----+------------------+\n",
            "only showing top 10 rows\n",
            "\n"
          ]
        }
      ]
    },
    {
      "cell_type": "code",
      "source": [
        "import numpy as np\n",
        "print(\"Note: the last rows are the information for intercept\")\n",
        "print(\"##\",\"--------------------------------\")\n",
        "print(\"##\",\" Estimate | Std.Error | t Values | P-value\")\n",
        "coef = np.append(list(regressor.coefficients),regressor.intercept)\n",
        "Summary=regressor.summary\n",
        "\n",
        "for i in range(len(Summary.pValues)):\n",
        "  print(\"##\",'{:10.6f}'.format(coef[i]),\\\n",
        "        '{:10.6f}'.format(Summary.coefficientStandardErrors[i]),\\\n",
        "        '{:8.3f}'.format(Summary.tValues[i]),\\\n",
        "        '{:10.6f}'.format(Summary.pValues[i]))"
      ],
      "metadata": {
        "colab": {
          "base_uri": "https://localhost:8080/"
        },
        "id": "23vEPBc-huJX",
        "outputId": "cb4fe0ed-3efb-4225-b971-a834df390eca"
      },
      "execution_count": null,
      "outputs": [
        {
          "output_type": "stream",
          "name": "stdout",
          "text": [
            "Note: the last rows are the information for intercept\n",
            "## --------------------------------\n",
            "##  Estimate | Std.Error | t Values | P-value\n",
            "##  -0.133960   0.034591   -3.873   0.000125\n",
            "##   0.042143   0.015504    2.718   0.006844\n",
            "##   0.019213   0.068159    0.282   0.778182\n",
            "##   2.321354   0.980385    2.368   0.018363\n",
            "## -17.851010   4.358813   -4.095   0.000051\n",
            "##   3.713024   0.453682    8.184   0.000000\n",
            "##  -0.000033   0.014692   -0.002   0.998182\n",
            "##  -1.541693   0.228134   -6.758   0.000000\n",
            "##   0.334569   0.072317    4.626   0.000005\n",
            "##  -0.011377   0.004126   -2.757   0.006094\n",
            "##  -0.999988   0.144930   -6.900   0.000000\n",
            "##   0.011508   0.003006    3.829   0.000149\n",
            "##  -0.552179   0.055578   -9.935   0.000000\n",
            "##  37.423043   5.700987    6.564   0.000000\n"
          ]
        }
      ]
    },
    {
      "cell_type": "code",
      "source": [
        "from pyspark.ml.evaluation import RegressionEvaluator\n",
        "eval_lr=RegressionEvaluator(labelCol=\"medv\",predictionCol=\"prediction\",metricName=\"rmse\")\n",
        "\n",
        "print(\"Linear regression model\\n\")\n",
        "\n",
        "rmse=eval_lr.evaluate(Pred_lr.predictions)\n",
        "print(\"RMSE: %3.f\"%rmse)\n",
        "\n",
        "mse=eval_lr.evaluate(Pred_lr.predictions,{eval_lr.metricName: \"mse\"})\n",
        "print(\"MSE: %.3f\"%mse)\n",
        "\n",
        "mae=eval_lr.evaluate(Pred_lr.predictions,{eval_lr.metricName: \"mae\"})\n",
        "print(\"MAE: %.3f\"%mae)\n",
        "\n",
        "r2=eval_lr.evaluate(Pred_lr.predictions,{eval_lr.metricName:\"r2\"})\n",
        "print(\"r2: %3f\"%r2)"
      ],
      "metadata": {
        "colab": {
          "base_uri": "https://localhost:8080/"
        },
        "id": "Zi2Q5kDyyCIy",
        "outputId": "df9b129b-9c07-465a-86be-d60252a631a1"
      },
      "execution_count": null,
      "outputs": [
        {
          "output_type": "stream",
          "name": "stdout",
          "text": [
            "Linear regression model\n",
            "\n",
            "RMSE:   5\n",
            "MSE: 21.341\n",
            "MAE: 3.408\n",
            "r2: 0.733662\n"
          ]
        }
      ]
    },
    {
      "cell_type": "code",
      "source": [
        "eval_rfr=RegressionEvaluator(labelCol=\"medv\",predictionCol=\"prediction\",metricName=\"rmse\")\n",
        "print(\"Regression Forrest model\\n\")\n",
        "\n",
        "rmse=eval_rfr.evaluate(pred_rfr)\n",
        "print(\"RMSE: %3f\"%rmse)\n",
        "\n",
        "mse=eval_rfr.evaluate(pred_rfr,{eval_rfr.metricName: \"mse\"})\n",
        "print(\"MSE: %3f\"%mse)\n",
        "\n",
        "mae=eval_rfr.evaluate(pred_rfr,{eval_rfr.metricName: \"mae\"})\n",
        "print(\"MAE: %3f\"%mae)\n",
        "\n",
        "r2=eval_rfr.evaluate(pred_rfr,{eval_rfr.metricName: \"r2\"})\n",
        "print(\"r2: %3f\"%r2)"
      ],
      "metadata": {
        "colab": {
          "base_uri": "https://localhost:8080/"
        },
        "id": "vG4d860u3omz",
        "outputId": "6c28c2b3-e96d-4beb-bd9d-b54b76a711c3"
      },
      "execution_count": null,
      "outputs": [
        {
          "output_type": "stream",
          "name": "stdout",
          "text": [
            "Regression Forrest model\n",
            "\n",
            "RMSE: 3.021995\n",
            "MSE: 9.132455\n",
            "MAE: 2.135463\n",
            "r2: 0.886025\n"
          ]
        }
      ]
    },
    {
      "cell_type": "code",
      "source": [
        "eval_gbt=RegressionEvaluator(labelCol=\"medv\",predictionCol=\"prediction\",metricName=\"rmse\")\n",
        "print(\"Gradient Boot Tree model\\n\")\n",
        "\n",
        "rmse=eval_gbt.evaluate(pred_gbt)\n",
        "print(\"RMSE: %3f\"%rmse)\n",
        "\n",
        "mse=eval_gbt.evaluate(pred_gbt,{eval_gbt.metricName: \"mse\"})\n",
        "print(\"MSE: %3f\"%mse)\n",
        "\n",
        "mae=eval_gbt.evaluate(pred_gbt,{eval_gbt.metricName: \"mae\"})\n",
        "print(\"MAE: %3f\"%mae)\n",
        "\n",
        "r2=eval_gbt.evaluate(pred_gbt,{eval_gbt.metricName: \"r2\"})\n",
        "print(\"r2: %3f\"%r2)"
      ],
      "metadata": {
        "colab": {
          "base_uri": "https://localhost:8080/"
        },
        "id": "togYyKXG7hUu",
        "outputId": "856c6512-d9b1-4dfb-ad3c-ecca1eb63345"
      },
      "execution_count": null,
      "outputs": [
        {
          "output_type": "stream",
          "name": "stdout",
          "text": [
            "Gradient Boot Tree model\n",
            "\n",
            "RMSE: 4.394054\n",
            "MSE: 19.307708\n",
            "MAE: 2.855992\n",
            "r2: 0.759035\n"
          ]
        }
      ]
    }
  ]
}