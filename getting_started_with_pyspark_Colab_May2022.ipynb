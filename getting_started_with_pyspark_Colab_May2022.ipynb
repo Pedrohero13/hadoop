{
  "nbformat": 4,
  "nbformat_minor": 0,
  "metadata": {
    "colab": {
      "name": "getting_started_with_pyspark_Colab_May2022.ipynb",
      "provenance": [],
      "authorship_tag": "ABX9TyNMIVn+o3vCyO/2BMha7tpU",
      "include_colab_link": true
    },
    "kernelspec": {
      "name": "python3",
      "display_name": "Python 3"
    },
    "language_info": {
      "name": "python"
    }
  },
  "cells": [
    {
      "cell_type": "markdown",
      "metadata": {
        "id": "view-in-github",
        "colab_type": "text"
      },
      "source": [
        "<a href=\"https://colab.research.google.com/github/Pedrohero13/hadoop/blob/main/getting_started_with_pyspark_Colab_May2022.ipynb\" target=\"_parent\"><img src=\"https://colab.research.google.com/assets/colab-badge.svg\" alt=\"Open In Colab\"/></a>"
      ]
    },
    {
      "cell_type": "code",
      "execution_count": 1,
      "metadata": {
        "id": "UprYJfmQ8lU7"
      },
      "outputs": [],
      "source": [
        "!apt-get install openjdk-8-jdk-headless -qq > /dev/null\n",
        "!wget -q https://downloads.apache.org/spark/spark-2.4.8/spark-2.4.8-bin-hadoop2.7.tgz\n",
        "!tar xf spark-2.4.8-bin-hadoop2.7.tgz\n",
        "!pip install -q findspark"
      ]
    },
    {
      "cell_type": "code",
      "source": [
        "#All imports\n",
        "import os\n",
        "os.environ[\"JAVA_HOME\"] = \"/usr/lib/jvm/java-8-openjdk-amd64\"\n",
        "os.environ[\"SPARK_HOME\"] = \"/content/spark-2.4.8-bin-hadoop2.7\""
      ],
      "metadata": {
        "id": "j00HnbOJ82nH"
      },
      "execution_count": 2,
      "outputs": []
    },
    {
      "cell_type": "code",
      "source": [
        "!java --version"
      ],
      "metadata": {
        "colab": {
          "base_uri": "https://localhost:8080/"
        },
        "id": "dkt8F2SC85kU",
        "outputId": "b040b0ad-6ed9-4d12-e89f-bc5b36df4884"
      },
      "execution_count": 3,
      "outputs": [
        {
          "output_type": "stream",
          "name": "stdout",
          "text": [
            "openjdk 11.0.15 2022-04-19\n",
            "OpenJDK Runtime Environment (build 11.0.15+10-Ubuntu-0ubuntu0.18.04.1)\n",
            "OpenJDK 64-Bit Server VM (build 11.0.15+10-Ubuntu-0ubuntu0.18.04.1, mixed mode, sharing)\n"
          ]
        }
      ]
    },
    {
      "cell_type": "code",
      "source": [
        "!echo $JAVA_HOME"
      ],
      "metadata": {
        "colab": {
          "base_uri": "https://localhost:8080/"
        },
        "id": "Rjae5_4G88T0",
        "outputId": "3ffa0901-946e-4f29-ba5c-ebef72199e50"
      },
      "execution_count": 4,
      "outputs": [
        {
          "output_type": "stream",
          "name": "stdout",
          "text": [
            "/usr/lib/jvm/java-8-openjdk-amd64\n"
          ]
        }
      ]
    },
    {
      "cell_type": "code",
      "source": [
        "!echo $SPARK_HOME"
      ],
      "metadata": {
        "colab": {
          "base_uri": "https://localhost:8080/"
        },
        "id": "2S7vZEiB8-8Y",
        "outputId": "652e93f6-f96e-4d59-e2e1-b0a7fb931ff7"
      },
      "execution_count": 5,
      "outputs": [
        {
          "output_type": "stream",
          "name": "stdout",
          "text": [
            "/content/spark-2.4.8-bin-hadoop2.7\n"
          ]
        }
      ]
    },
    {
      "cell_type": "code",
      "source": [
        "import findspark\n",
        "findspark.init()\n",
        "from google.colab import files\n",
        "from pyspark import SparkContext, SparkConf,SQLContext,HiveContext\n",
        "from pyspark.sql import SparkSession\n",
        "from pyspark.sql.functions import isnan, when, count, col, lit\n",
        "import pandas as pd \n",
        "import numpy as np\n",
        "import matplotlib.pyplot as plt "
      ],
      "metadata": {
        "id": "-TM65e199Btm"
      },
      "execution_count": 6,
      "outputs": []
    },
    {
      "cell_type": "code",
      "source": [
        "# create SparkSession\n",
        "spark = SparkSession \\\n",
        "    .builder \\\n",
        "    .getOrCreate()"
      ],
      "metadata": {
        "id": "5KjlUzdK9F0K"
      },
      "execution_count": 7,
      "outputs": []
    },
    {
      "cell_type": "code",
      "source": [
        "spark.version"
      ],
      "metadata": {
        "colab": {
          "base_uri": "https://localhost:8080/",
          "height": 35
        },
        "id": "kg0cl7TS9I41",
        "outputId": "ae51f8b2-a2af-4009-f92c-ba544e536ffd"
      },
      "execution_count": 8,
      "outputs": [
        {
          "output_type": "execute_result",
          "data": {
            "text/plain": [
              "'2.4.8'"
            ],
            "application/vnd.google.colaboratory.intrinsic+json": {
              "type": "string"
            }
          },
          "metadata": {},
          "execution_count": 8
        }
      ]
    },
    {
      "cell_type": "code",
      "source": [
        "sc = spark.sparkContext"
      ],
      "metadata": {
        "id": "9DM95NEY9bsj"
      },
      "execution_count": 12,
      "outputs": []
    },
    {
      "cell_type": "code",
      "source": [
        "sc.version"
      ],
      "metadata": {
        "colab": {
          "base_uri": "https://localhost:8080/",
          "height": 35
        },
        "id": "q2SldXz29eJA",
        "outputId": "88bd35fd-8ccc-477a-dc18-cd3032881953"
      },
      "execution_count": 13,
      "outputs": [
        {
          "output_type": "execute_result",
          "data": {
            "text/plain": [
              "'2.4.8'"
            ],
            "application/vnd.google.colaboratory.intrinsic+json": {
              "type": "string"
            }
          },
          "metadata": {},
          "execution_count": 13
        }
      ]
    },
    {
      "cell_type": "code",
      "source": [
        "sqlContext = SQLContext(sc)"
      ],
      "metadata": {
        "id": "GLbYXbmU9f9n"
      },
      "execution_count": 14,
      "outputs": []
    },
    {
      "cell_type": "markdown",
      "source": [
        "# **Introduction**\n",
        "Apache Spark is a fast and powerful framework that provides an API to perform massive distributed processing over resilient sets of data. The main abstraction Spark provides is a resilient distributed dataset (RDD), which is the fundamental and backbone data type of this engine. Spark SQL is Apache Spark's module for working with structured data and MLlib is Apache Spark's scalable machine learning library. Apache Spark is written in Scala programming language. To support Python with Spark, Apache Spark community released a tool, PySpark. PySpark has similar computation speed and power as Scala. PySpark is a parallel and distributed engine for running big data applications. Using PySpark, you can work with RDDs in Python programming language.\n",
        "\n",
        "This tutorial discusses Big Data via PySpark, a Python package for spark programming. Spark's high level libraries such as SparkSQL, Mllib will be used to interact with two different datasets."
      ],
      "metadata": {
        "id": "XipbU-Nc9knH"
      }
    },
    {
      "cell_type": "markdown",
      "source": [
        "# **What is SparkContext?**\n",
        "Spark comes with interactive python shell in which PySpark is already installed in it. PySpark automatically creates a SparkContext for you in the PySpark Shell. SparkContext is an entry point into the world of Spark. An entry point is a way of connecting to Spark cluster. We can use SparkContext using sc variable. In the following examples, we retrieve SparkContext version and Python version of SparkContext."
      ],
      "metadata": {
        "id": "82a9Q4Ag9qTe"
      }
    },
    {
      "cell_type": "code",
      "source": [
        "# to retrieve SparkContext version\n",
        "sc.version"
      ],
      "metadata": {
        "colab": {
          "base_uri": "https://localhost:8080/",
          "height": 35
        },
        "id": "ni_EdC2u9pb7",
        "outputId": "e29d01ff-0347-451e-aa68-6fdb858f1856"
      },
      "execution_count": 15,
      "outputs": [
        {
          "output_type": "execute_result",
          "data": {
            "text/plain": [
              "'2.4.8'"
            ],
            "application/vnd.google.colaboratory.intrinsic+json": {
              "type": "string"
            }
          },
          "metadata": {},
          "execution_count": 15
        }
      ]
    },
    {
      "cell_type": "code",
      "source": [
        "# to retriece Python version of SparkContext\n",
        "sc.pythonVer"
      ],
      "metadata": {
        "colab": {
          "base_uri": "https://localhost:8080/",
          "height": 35
        },
        "id": "k-OcOP7o9yoD",
        "outputId": "77f4f851-ce6a-451d-ac9b-b7ea05f794dd"
      },
      "execution_count": 16,
      "outputs": [
        {
          "output_type": "execute_result",
          "data": {
            "text/plain": [
              "'3.7'"
            ],
            "application/vnd.google.colaboratory.intrinsic+json": {
              "type": "string"
            }
          },
          "metadata": {},
          "execution_count": 16
        }
      ]
    },
    {
      "cell_type": "markdown",
      "source": [
        "# **Import Packages**\n",
        "**TEMA 2** MANEJO DE DATOS EN SPARK"
      ],
      "metadata": {
        "id": "jl_zoK-G98bW"
      }
    },
    {
      "cell_type": "code",
      "source": [
        "import pandas as pd\n",
        "import matplotlib.pyplot as plt\n",
        "plt.style.use(\"seaborn\")\n",
        "from math import sqrt\n",
        "from pyspark.mllib.clustering import KMeans"
      ],
      "metadata": {
        "id": "p7FGEDUO90xF"
      },
      "execution_count": 17,
      "outputs": []
    },
    {
      "cell_type": "markdown",
      "source": [
        "# **Using map and filter methods with Lambda function in Python**\n",
        "Lambda functions are anonymous functions in Python. Anonymous functions do not bind to any name in runtime and it returns the functions without any name. They are usually used with map and filter methods. Lambda functions create functions to be called later. In the following example, we use lambda function with map and flter methods."
      ],
      "metadata": {
        "id": "YvpkMGd8-Duh"
      }
    },
    {
      "cell_type": "code",
      "source": [
        "my_list = [1,2,3,4,5]\n",
        "squared_my_list = list(map(lambda x: x*x, my_list))\n",
        "squared_my_list"
      ],
      "metadata": {
        "colab": {
          "base_uri": "https://localhost:8080/"
        },
        "id": "DOev2G2i-RH3",
        "outputId": "d3e5287e-7764-4945-9eb7-e96fa5b0a38c"
      },
      "execution_count": 18,
      "outputs": [
        {
          "output_type": "execute_result",
          "data": {
            "text/plain": [
              "[1, 4, 9, 16, 25]"
            ]
          },
          "metadata": {},
          "execution_count": 18
        }
      ]
    },
    {
      "cell_type": "code",
      "source": [
        "filtered_my_list = list(filter(lambda x: (x%2 != 0), my_list))\n",
        "filtered_my_list"
      ],
      "metadata": {
        "colab": {
          "base_uri": "https://localhost:8080/"
        },
        "id": "YzetrpRL-U1D",
        "outputId": "b3c1b4e9-88f2-4b38-9266-052a3ba74a28"
      },
      "execution_count": 19,
      "outputs": [
        {
          "output_type": "execute_result",
          "data": {
            "text/plain": [
              "[1, 3, 5]"
            ]
          },
          "metadata": {},
          "execution_count": 19
        }
      ]
    },
    {
      "cell_type": "markdown",
      "source": [
        "# **Creating RDD from Object**\n",
        "RDDs are data stacks distributed throughout cluster of computers. Each stack is calculated on different computers in the cluster. RDDs are the most basic data structure of Spark. We can create RDD by giving existing object like Python list to SparkContext's parallelize method. In the following example, we create a list with numbers, then we create a RDD from this list."
      ],
      "metadata": {
        "id": "YdJV5duI-Xoy"
      }
    },
    {
      "cell_type": "code",
      "source": [
        "numbers = list(range(1,5))\n",
        "print(numbers)"
      ],
      "metadata": {
        "colab": {
          "base_uri": "https://localhost:8080/"
        },
        "id": "Jh62fFBU-ZM9",
        "outputId": "41f142ad-1d26-44ab-a948-0123493306bc"
      },
      "execution_count": 20,
      "outputs": [
        {
          "output_type": "stream",
          "name": "stdout",
          "text": [
            "[1, 2, 3, 4]\n"
          ]
        }
      ]
    },
    {
      "cell_type": "code",
      "source": [
        "# load the numbers into PySpark\n",
        "numbersRDD = sc.parallelize(numbers)"
      ],
      "metadata": {
        "id": "EdIA7Ne5-eA9"
      },
      "execution_count": 21,
      "outputs": []
    },
    {
      "cell_type": "code",
      "source": [
        "print(type(numbersRDD))\n",
        "print(type(numbers))"
      ],
      "metadata": {
        "colab": {
          "base_uri": "https://localhost:8080/"
        },
        "id": "wNoQecaU-gjX",
        "outputId": "4a821ca9-d8b3-43d8-8fd3-2427726fbd37"
      },
      "execution_count": 22,
      "outputs": [
        {
          "output_type": "stream",
          "name": "stdout",
          "text": [
            "<class 'pyspark.rdd.RDD'>\n",
            "<class 'list'>\n"
          ]
        }
      ]
    },
    {
      "cell_type": "code",
      "source": [
        "numbersRDD.getNumPartitions()\n"
      ],
      "metadata": {
        "colab": {
          "base_uri": "https://localhost:8080/"
        },
        "id": "7g87Y8sl-jSc",
        "outputId": "a3c0cdf3-2c34-4674-b2fb-8b46b1ee571c"
      },
      "execution_count": 23,
      "outputs": [
        {
          "output_type": "execute_result",
          "data": {
            "text/plain": [
              "2"
            ]
          },
          "metadata": {},
          "execution_count": 23
        }
      ]
    },
    {
      "cell_type": "code",
      "source": [
        "print(sc.defaultParallelism)"
      ],
      "metadata": {
        "colab": {
          "base_uri": "https://localhost:8080/"
        },
        "id": "rfpv54JD-lNm",
        "outputId": "065f01a7-40a3-4c9d-a09d-34277279315a"
      },
      "execution_count": 24,
      "outputs": [
        {
          "output_type": "stream",
          "name": "stdout",
          "text": [
            "2\n"
          ]
        }
      ]
    },
    {
      "cell_type": "markdown",
      "source": [
        "# **Transformations and Actions on RDD**\n",
        "Transformations and actions are two type of operations in Spark. Transformations create new RDDs. Actions performs computation on the RDDs. Map, filter, flatmap and union are basic RDD transformations. Collect, take, first and count are basic RDD actions. In the following example, we create rdd named numRDD from list and then using map transformation we create a new rdd named cubeRDD from numRDD. Finally, we use collect action to return a list that contains all of the elements in this RDD."
      ],
      "metadata": {
        "id": "QvLVCqko-nRL"
      }
    },
    {
      "cell_type": "code",
      "source": [
        "#Create RDD, map() transformations\n",
        "numRDD = sc.parallelize(numbers)\n",
        "cubeRDD = numRDD.map(lambda x: x**3)\n",
        "numbers_all = cubeRDD.collect()\n",
        "\n",
        "[print(num) for num in numbers_all];"
      ],
      "metadata": {
        "colab": {
          "base_uri": "https://localhost:8080/"
        },
        "id": "na2Fce8P-qbF",
        "outputId": "b0244694-53f8-454d-d6ff-2e9ec8f43a67"
      },
      "execution_count": 25,
      "outputs": [
        {
          "output_type": "stream",
          "name": "stdout",
          "text": [
            "1\n",
            "8\n",
            "27\n",
            "64\n"
          ]
        }
      ]
    },
    {
      "cell_type": "code",
      "source": [
        "#take shows the first n values\n",
        "numRDD.take(5)"
      ],
      "metadata": {
        "colab": {
          "base_uri": "https://localhost:8080/"
        },
        "id": "zK2kqkzR-t-p",
        "outputId": "85fb9fff-61f9-46c0-dba2-6b75736d5ac6"
      },
      "execution_count": 26,
      "outputs": [
        {
          "output_type": "execute_result",
          "data": {
            "text/plain": [
              "[1, 2, 3, 4]"
            ]
          },
          "metadata": {},
          "execution_count": 26
        }
      ]
    },
    {
      "cell_type": "code",
      "source": [
        "#reduce :  reduces de values using a conmutative and associative binary operator\n",
        "from operator import add, mul, sub\n",
        "#numRDD.reduce(add)\n",
        "#numRDD.reduce(mul)"
      ],
      "metadata": {
        "id": "fh2bd_ZJ-wFY"
      },
      "execution_count": 27,
      "outputs": []
    },
    {
      "cell_type": "code",
      "source": [
        "numRDD.stats()"
      ],
      "metadata": {
        "colab": {
          "base_uri": "https://localhost:8080/"
        },
        "id": "t2niICed-ylN",
        "outputId": "3a9c0598-3d47-4df5-ef4c-a3deada84481"
      },
      "execution_count": 28,
      "outputs": [
        {
          "output_type": "execute_result",
          "data": {
            "text/plain": [
              "(count: 4, mean: 2.5, stdev: 1.118033988749895, max: 4.0, min: 1.0)"
            ]
          },
          "metadata": {},
          "execution_count": 28
        }
      ]
    },
    {
      "cell_type": "code",
      "source": [
        "numRDD.count()"
      ],
      "metadata": {
        "colab": {
          "base_uri": "https://localhost:8080/"
        },
        "id": "6P-0lIqs-0Qi",
        "outputId": "d6055dd6-7eae-4c9b-bc81-d119022bd44f"
      },
      "execution_count": 29,
      "outputs": [
        {
          "output_type": "execute_result",
          "data": {
            "text/plain": [
              "4"
            ]
          },
          "metadata": {},
          "execution_count": 29
        }
      ]
    },
    {
      "cell_type": "markdown",
      "source": [
        "# **Transformations and Actions on pair RDD**\n",
        "Pair RDD is a special type of RDD to work with datasets with key/value pairs. All regular transformations work on pair RDD. In the following example, we create pair RDD with 4 tuple with two numbers. In each tuple, the first number is key and the second number is value. Then, we apply reduceByKey transformation to pair RDD. ReduceByKey tranformation combine values with the same key. Therefore, this transformation adds the values of tuples with the same key."
      ],
      "metadata": {
        "id": "H4tFprpuBwvI"
      }
    },
    {
      "cell_type": "code",
      "source": [
        "# create pairRdd with key and value pairs\n",
        "pairRdd = sc.parallelize([(1,2), (3,4), (3,6), (3,7), (4,5)])\n",
        "\n",
        "[print(num) for num in pairRdd.collect()];\n",
        "\n",
        "print(\"\\n\")\n",
        "\n",
        "pairRdd_Reduced = pairRdd.reduceByKey(lambda x, y: x-y)\n",
        "\n",
        "[print(num) for num in pairRdd_Reduced.collect()];"
      ],
      "metadata": {
        "colab": {
          "base_uri": "https://localhost:8080/"
        },
        "id": "3EKP8KpTB0Fd",
        "outputId": "27eae878-e227-43ef-c303-f663dd150461"
      },
      "execution_count": 30,
      "outputs": [
        {
          "output_type": "stream",
          "name": "stdout",
          "text": [
            "(1, 2)\n",
            "(3, 4)\n",
            "(3, 6)\n",
            "(3, 7)\n",
            "(4, 5)\n",
            "\n",
            "\n",
            "(4, 5)\n",
            "(1, 2)\n",
            "(3, 5)\n"
          ]
        }
      ]
    },
    {
      "cell_type": "code",
      "source": [
        "pairRdd.take(2)"
      ],
      "metadata": {
        "colab": {
          "base_uri": "https://localhost:8080/"
        },
        "id": "kpFoDhiPB2sY",
        "outputId": "ee32ab36-e3fc-47a9-b402-3c9efb195753"
      },
      "execution_count": 31,
      "outputs": [
        {
          "output_type": "execute_result",
          "data": {
            "text/plain": [
              "[(1, 2), (3, 4)]"
            ]
          },
          "metadata": {},
          "execution_count": 31
        }
      ]
    },
    {
      "cell_type": "markdown",
      "source": [
        "We can sort keys of tuples using sortByKey transformation like in the following example."
      ],
      "metadata": {
        "id": "KbNHD4q8B5Kr"
      }
    },
    {
      "cell_type": "code",
      "source": [
        "pairRdd_Reduced_Sort = pairRdd_Reduced.sortByKey(ascending=True)\n",
        "\n",
        "[print(num) for num in pairRdd_Reduced_Sort.collect()];"
      ],
      "metadata": {
        "colab": {
          "base_uri": "https://localhost:8080/"
        },
        "id": "PpDp7JFTB5rj",
        "outputId": "e7141266-d9fc-4131-d659-08fad58ee86f"
      },
      "execution_count": 32,
      "outputs": [
        {
          "output_type": "stream",
          "name": "stdout",
          "text": [
            "(1, 2)\n",
            "(3, 5)\n",
            "(4, 5)\n"
          ]
        }
      ]
    },
    {
      "cell_type": "code",
      "source": [
        "pairRdd.take(3)"
      ],
      "metadata": {
        "colab": {
          "base_uri": "https://localhost:8080/"
        },
        "id": "BzL1lZKkB-cr",
        "outputId": "fa59bc65-fce9-4fa5-9445-12548b3f7a7c"
      },
      "execution_count": 33,
      "outputs": [
        {
          "output_type": "execute_result",
          "data": {
            "text/plain": [
              "[(1, 2), (3, 4), (3, 6)]"
            ]
          },
          "metadata": {},
          "execution_count": 33
        }
      ]
    },
    {
      "cell_type": "code",
      "source": [
        "total = pairRdd.countByKey()\n"
      ],
      "metadata": {
        "id": "2zdtvS8vCGGb"
      },
      "execution_count": 34,
      "outputs": []
    },
    {
      "cell_type": "code",
      "source": [
        "total.items()"
      ],
      "metadata": {
        "colab": {
          "base_uri": "https://localhost:8080/"
        },
        "id": "YprS1wzACIDK",
        "outputId": "bbdbe8c8-2587-49a6-e2f0-4d6fcc9dd2ce"
      },
      "execution_count": 35,
      "outputs": [
        {
          "output_type": "execute_result",
          "data": {
            "text/plain": [
              "dict_items([(1, 1), (3, 3), (4, 1)])"
            ]
          },
          "metadata": {},
          "execution_count": 35
        }
      ]
    },
    {
      "cell_type": "code",
      "source": [
        "[print(\"key\", k, \"has\", v, \"counts\") for k,v in total.items()];\n"
      ],
      "metadata": {
        "colab": {
          "base_uri": "https://localhost:8080/"
        },
        "id": "PxEvKfhiCKHl",
        "outputId": "4968bf78-c454-458e-f8fb-ac9213424b71"
      },
      "execution_count": 36,
      "outputs": [
        {
          "output_type": "stream",
          "name": "stdout",
          "text": [
            "key 1 has 1 counts\n",
            "key 3 has 3 counts\n",
            "key 4 has 1 counts\n"
          ]
        }
      ]
    },
    {
      "cell_type": "markdown",
      "source": [
        "# **What is SparkSession?**\n",
        "SparkContext is the main entry point for creating RDDs while SparkSession provides a single point of entry to interact with Spark Dataframes. SparkSession is used to create DataFrame, register DataFrames, execute SQL queries. We can access SparkSession in PySpark using spark variable. In the following examples, we retrieve SparkSession version and other informations about it."
      ],
      "metadata": {
        "id": "o4lCLz54CM4E"
      }
    },
    {
      "cell_type": "code",
      "source": [
        "spark"
      ],
      "metadata": {
        "colab": {
          "base_uri": "https://localhost:8080/",
          "height": 219
        },
        "id": "2cTPF4jNCMcl",
        "outputId": "8d1376b8-6846-42cc-f994-0a4fb413f245"
      },
      "execution_count": 37,
      "outputs": [
        {
          "output_type": "execute_result",
          "data": {
            "text/plain": [
              "<pyspark.sql.session.SparkSession at 0x7f3e2b71f1d0>"
            ],
            "text/html": [
              "\n",
              "            <div>\n",
              "                <p><b>SparkSession - in-memory</b></p>\n",
              "                \n",
              "        <div>\n",
              "            <p><b>SparkContext</b></p>\n",
              "\n",
              "            <p><a href=\"http://b341cedbd3ae:4040\">Spark UI</a></p>\n",
              "\n",
              "            <dl>\n",
              "              <dt>Version</dt>\n",
              "                <dd><code>v2.4.8</code></dd>\n",
              "              <dt>Master</dt>\n",
              "                <dd><code>local[*]</code></dd>\n",
              "              <dt>AppName</dt>\n",
              "                <dd><code>pyspark-shell</code></dd>\n",
              "            </dl>\n",
              "        </div>\n",
              "        \n",
              "            </div>\n",
              "        "
            ]
          },
          "metadata": {},
          "execution_count": 37
        }
      ]
    },
    {
      "cell_type": "markdown",
      "source": [
        "# **Creating PySpark DataFrame from RDD**\n",
        "Spark SQL which is a Spark module for structured data processing provides a programming abstraction called DataFrames and can also act as a distributed SQL query engine. In the following example, we create rdd from list then we create PySpark dataframe using SparkSession's createDataFrame method. When we look at the type of dataframe, we can see pyspark.sql.dataframe as an output. Furthermore, we can use show method to print out the dataframe."
      ],
      "metadata": {
        "id": "hp5ImwbJCT-r"
      }
    },
    {
      "cell_type": "code",
      "source": [
        "# Create a PySpark Dataframe from rdd\n",
        "sample_list = [(\"Mona\", 23), (\"Lisa\", 29), ('Leonardo',37), ('Piero',41)]\n",
        "rdd = sc.parallelize(sample_list)\n",
        "df_names = spark.createDataFrame(rdd, schema=['Name', 'Age'])\n",
        "type(df_names)"
      ],
      "metadata": {
        "colab": {
          "base_uri": "https://localhost:8080/"
        },
        "id": "hCgOOV8gCVb4",
        "outputId": "1888c292-fef2-4f16-a9e9-59963ec2c60c"
      },
      "execution_count": 38,
      "outputs": [
        {
          "output_type": "execute_result",
          "data": {
            "text/plain": [
              "pyspark.sql.dataframe.DataFrame"
            ]
          },
          "metadata": {},
          "execution_count": 38
        }
      ]
    },
    {
      "cell_type": "code",
      "source": [
        "df_names.show()\n"
      ],
      "metadata": {
        "colab": {
          "base_uri": "https://localhost:8080/"
        },
        "id": "3o_TcHn_CZar",
        "outputId": "7162acf3-3c2b-4449-c770-175feed63935"
      },
      "execution_count": 39,
      "outputs": [
        {
          "output_type": "stream",
          "name": "stdout",
          "text": [
            "+--------+---+\n",
            "|    Name|Age|\n",
            "+--------+---+\n",
            "|    Mona| 23|\n",
            "|    Lisa| 29|\n",
            "|Leonardo| 37|\n",
            "|   Piero| 41|\n",
            "+--------+---+\n",
            "\n"
          ]
        }
      ]
    },
    {
      "cell_type": "code",
      "source": [
        "columns=[\"New Name\",\"New Age\"]\n",
        "SDF=rdd.toDF(columns)\n",
        "SDF.show()\n",
        "type(SDF)"
      ],
      "metadata": {
        "colab": {
          "base_uri": "https://localhost:8080/"
        },
        "id": "2D-bu7IoCb-F",
        "outputId": "861a1c3c-a15d-496d-cc24-7d1f6e089d04"
      },
      "execution_count": 40,
      "outputs": [
        {
          "output_type": "stream",
          "name": "stdout",
          "text": [
            "+--------+-------+\n",
            "|New Name|New Age|\n",
            "+--------+-------+\n",
            "|    Mona|     23|\n",
            "|    Lisa|     29|\n",
            "|Leonardo|     37|\n",
            "|   Piero|     41|\n",
            "+--------+-------+\n",
            "\n"
          ]
        },
        {
          "output_type": "execute_result",
          "data": {
            "text/plain": [
              "pyspark.sql.dataframe.DataFrame"
            ]
          },
          "metadata": {},
          "execution_count": 40
        }
      ]
    },
    {
      "cell_type": "code",
      "source": [
        "df_names.rdd.take(5)"
      ],
      "metadata": {
        "colab": {
          "base_uri": "https://localhost:8080/"
        },
        "id": "2fRoXieLCfBR",
        "outputId": "078faaa1-183f-46dd-d9e3-6ebb4fc527ec"
      },
      "execution_count": 41,
      "outputs": [
        {
          "output_type": "execute_result",
          "data": {
            "text/plain": [
              "[Row(Name='Mona', Age=23),\n",
              " Row(Name='Lisa', Age=29),\n",
              " Row(Name='Leonardo', Age=37),\n",
              " Row(Name='Piero', Age=41)]"
            ]
          },
          "metadata": {},
          "execution_count": 41
        }
      ]
    },
    {
      "cell_type": "code",
      "source": [
        "df_names.rdd.getNumPartitions()"
      ],
      "metadata": {
        "colab": {
          "base_uri": "https://localhost:8080/"
        },
        "id": "OEwH5d9NChae",
        "outputId": "0832a3ba-280d-41f0-ffcd-15d2fa5446bd"
      },
      "execution_count": 42,
      "outputs": [
        {
          "output_type": "execute_result",
          "data": {
            "text/plain": [
              "2"
            ]
          },
          "metadata": {},
          "execution_count": 42
        }
      ]
    },
    {
      "cell_type": "markdown",
      "source": [
        "# **Add Datasets**"
      ],
      "metadata": {
        "id": "mhHoZurODH7i"
      }
    },
    {
      "cell_type": "code",
      "source": [
        "path_people=\"/content/people.csv\""
      ],
      "metadata": {
        "id": "28M5NSboDJNg"
      },
      "execution_count": 45,
      "outputs": []
    },
    {
      "cell_type": "code",
      "source": [
        "df_data_1 = spark.read.csv(path_people,header=True,inferSchema=True)\n",
        "df_data_1.show(10)"
      ],
      "metadata": {
        "colab": {
          "base_uri": "https://localhost:8080/"
        },
        "id": "eM6Xrl4WDdDA",
        "outputId": "37d7ea9a-28b5-4865-9c7d-edf7fa02d015"
      },
      "execution_count": 46,
      "outputs": [
        {
          "output_type": "stream",
          "name": "stdout",
          "text": [
            "+---+---------+----------------+------+-------------+\n",
            "|_c0|person_id|            name|   sex|date of birth|\n",
            "+---+---------+----------------+------+-------------+\n",
            "|  0|      100|  Penelope Lewis|female|   1990-08-31|\n",
            "|  1|      101|   David Anthony|  male|   1971-10-14|\n",
            "|  2|      102|       Ida Shipp|female|   1962-05-24|\n",
            "|  3|      103|    Joanna Moore|female|   2017-03-10|\n",
            "|  4|      104|  Lisandra Ortiz|female|   2020-08-05|\n",
            "|  5|      105|   David Simmons|  male|   1999-12-30|\n",
            "|  6|      106|   Edward Hudson|  male|   1983-05-09|\n",
            "|  7|      107|    Albert Jones|  male|   1990-09-13|\n",
            "|  8|      108|Leonard Cavender|  male|   1958-08-08|\n",
            "|  9|      109|  Everett Vadala|  male|   2005-05-24|\n",
            "+---+---------+----------------+------+-------------+\n",
            "only showing top 10 rows\n",
            "\n"
          ]
        }
      ]
    },
    {
      "cell_type": "code",
      "source": [
        "df_data_1.show(5)"
      ],
      "metadata": {
        "colab": {
          "base_uri": "https://localhost:8080/"
        },
        "id": "2_nv_SirEDjo",
        "outputId": "43d428d8-31e6-401f-d2aa-df5dae0d0cd4"
      },
      "execution_count": 47,
      "outputs": [
        {
          "output_type": "stream",
          "name": "stdout",
          "text": [
            "+---+---------+--------------+------+-------------+\n",
            "|_c0|person_id|          name|   sex|date of birth|\n",
            "+---+---------+--------------+------+-------------+\n",
            "|  0|      100|Penelope Lewis|female|   1990-08-31|\n",
            "|  1|      101| David Anthony|  male|   1971-10-14|\n",
            "|  2|      102|     Ida Shipp|female|   1962-05-24|\n",
            "|  3|      103|  Joanna Moore|female|   2017-03-10|\n",
            "|  4|      104|Lisandra Ortiz|female|   2020-08-05|\n",
            "+---+---------+--------------+------+-------------+\n",
            "only showing top 5 rows\n",
            "\n"
          ]
        }
      ]
    },
    {
      "cell_type": "code",
      "source": [
        "df_data_1.rdd.take(5)"
      ],
      "metadata": {
        "colab": {
          "base_uri": "https://localhost:8080/"
        },
        "id": "IT6jg9n8EIS0",
        "outputId": "c32278de-c6b2-4c2a-b69d-18e7b874eb54"
      },
      "execution_count": 48,
      "outputs": [
        {
          "output_type": "execute_result",
          "data": {
            "text/plain": [
              "[Row(_c0=0, person_id=100, name='Penelope Lewis', sex='female', date of birth='1990-08-31'),\n",
              " Row(_c0=1, person_id=101, name='David Anthony', sex='male', date of birth='1971-10-14'),\n",
              " Row(_c0=2, person_id=102, name='Ida Shipp', sex='female', date of birth='1962-05-24'),\n",
              " Row(_c0=3, person_id=103, name='Joanna Moore', sex='female', date of birth='2017-03-10'),\n",
              " Row(_c0=4, person_id=104, name='Lisandra Ortiz', sex='female', date of birth='2020-08-05')]"
            ]
          },
          "metadata": {},
          "execution_count": 48
        }
      ]
    },
    {
      "cell_type": "code",
      "source": [
        "df_data_1.printSchema()"
      ],
      "metadata": {
        "colab": {
          "base_uri": "https://localhost:8080/"
        },
        "id": "wCqqrhKXEKBN",
        "outputId": "9d6da52a-1ddf-4544-f650-1c24294253cf"
      },
      "execution_count": 49,
      "outputs": [
        {
          "output_type": "stream",
          "name": "stdout",
          "text": [
            "root\n",
            " |-- _c0: integer (nullable = true)\n",
            " |-- person_id: integer (nullable = true)\n",
            " |-- name: string (nullable = true)\n",
            " |-- sex: string (nullable = true)\n",
            " |-- date of birth: string (nullable = true)\n",
            "\n"
          ]
        }
      ]
    },
    {
      "cell_type": "markdown",
      "source": [
        "You can also add 5000_points.txt dataset by applying same procedure but click insert to code then click insert credentials then write \"file\" and \"bucket\" values inside \"path_5000 = cos.url('file_name', 'bucket_name')\" expression and comment out path_5000."
      ],
      "metadata": {
        "id": "HxJ6voTEEOXH"
      }
    },
    {
      "cell_type": "code",
      "source": [
        "path_5000 = \"/content/5000_points.txt\"\n",
        "#df_people = spark.sparkContext.textFile(path_5000)"
      ],
      "metadata": {
        "id": "RVjm4FfpESDa"
      },
      "execution_count": 51,
      "outputs": []
    },
    {
      "cell_type": "markdown",
      "source": [
        "# **Create PySpark DataFrame from external file**\n",
        "We can create PySpark DataFrame by using SparkSession's read.csv method. To do this, we should give path of csv file as an argument to the method. Show action prints first 20 rows of DataFrame. Count action prints number of rows in DataFrame. Columns attribute prints the list of columns in DataFrame. PrintSchema action prints the types of columns in the Dataframe and it gives information about whether there is null values in columns or not."
      ],
      "metadata": {
        "id": "t6F3t-ivEeow"
      }
    },
    {
      "cell_type": "code",
      "source": [
        "df_people = spark.read.csv(path_people, header=True, inferSchema=True)\n"
      ],
      "metadata": {
        "id": "ePsUy36wEd5Z"
      },
      "execution_count": 52,
      "outputs": []
    },
    {
      "cell_type": "code",
      "source": [
        "df_people.show(10)"
      ],
      "metadata": {
        "colab": {
          "base_uri": "https://localhost:8080/"
        },
        "id": "WtqJ3gSGEmYf",
        "outputId": "ad509d24-f2ee-4701-d647-0c9818ef5b4a"
      },
      "execution_count": 53,
      "outputs": [
        {
          "output_type": "stream",
          "name": "stdout",
          "text": [
            "+---+---------+----------------+------+-------------+\n",
            "|_c0|person_id|            name|   sex|date of birth|\n",
            "+---+---------+----------------+------+-------------+\n",
            "|  0|      100|  Penelope Lewis|female|   1990-08-31|\n",
            "|  1|      101|   David Anthony|  male|   1971-10-14|\n",
            "|  2|      102|       Ida Shipp|female|   1962-05-24|\n",
            "|  3|      103|    Joanna Moore|female|   2017-03-10|\n",
            "|  4|      104|  Lisandra Ortiz|female|   2020-08-05|\n",
            "|  5|      105|   David Simmons|  male|   1999-12-30|\n",
            "|  6|      106|   Edward Hudson|  male|   1983-05-09|\n",
            "|  7|      107|    Albert Jones|  male|   1990-09-13|\n",
            "|  8|      108|Leonard Cavender|  male|   1958-08-08|\n",
            "|  9|      109|  Everett Vadala|  male|   2005-05-24|\n",
            "+---+---------+----------------+------+-------------+\n",
            "only showing top 10 rows\n",
            "\n"
          ]
        }
      ]
    },
    {
      "cell_type": "code",
      "source": [
        "df_people.count()"
      ],
      "metadata": {
        "colab": {
          "base_uri": "https://localhost:8080/"
        },
        "id": "BVf0utajEoaj",
        "outputId": "30034efd-e35f-4c7e-be85-6738a8388be3"
      },
      "execution_count": 54,
      "outputs": [
        {
          "output_type": "execute_result",
          "data": {
            "text/plain": [
              "100000"
            ]
          },
          "metadata": {},
          "execution_count": 54
        }
      ]
    },
    {
      "cell_type": "code",
      "source": [
        "print(len(df_people.columns))\n"
      ],
      "metadata": {
        "colab": {
          "base_uri": "https://localhost:8080/"
        },
        "id": "4I0IN4xxErD5",
        "outputId": "ca587eb0-cc07-4d40-ab26-b2f4b40384b8"
      },
      "execution_count": 55,
      "outputs": [
        {
          "output_type": "stream",
          "name": "stdout",
          "text": [
            "5\n"
          ]
        }
      ]
    },
    {
      "cell_type": "code",
      "source": [
        "df_people.columns\n"
      ],
      "metadata": {
        "colab": {
          "base_uri": "https://localhost:8080/"
        },
        "id": "dPSBdTE1EtU9",
        "outputId": "a51e0d29-78a5-4da8-fd45-bc11460886c6"
      },
      "execution_count": 56,
      "outputs": [
        {
          "output_type": "execute_result",
          "data": {
            "text/plain": [
              "['_c0', 'person_id', 'name', 'sex', 'date of birth']"
            ]
          },
          "metadata": {},
          "execution_count": 56
        }
      ]
    },
    {
      "cell_type": "code",
      "source": [
        "df_people.printSchema()\n"
      ],
      "metadata": {
        "colab": {
          "base_uri": "https://localhost:8080/"
        },
        "id": "IJ6Yml10ExyO",
        "outputId": "e77c5080-de91-46bf-97b9-7cd3309e99c4"
      },
      "execution_count": 57,
      "outputs": [
        {
          "output_type": "stream",
          "name": "stdout",
          "text": [
            "root\n",
            " |-- _c0: integer (nullable = true)\n",
            " |-- person_id: integer (nullable = true)\n",
            " |-- name: string (nullable = true)\n",
            " |-- sex: string (nullable = true)\n",
            " |-- date of birth: string (nullable = true)\n",
            "\n"
          ]
        }
      ]
    },
    {
      "cell_type": "code",
      "source": [
        "df_people.drop(\"name\",\"date of birth\").printSchema()\n"
      ],
      "metadata": {
        "colab": {
          "base_uri": "https://localhost:8080/"
        },
        "id": "6n2GHc-vEz8y",
        "outputId": "3a894a28-c647-492e-aadc-1c8d3b60caf2"
      },
      "execution_count": 58,
      "outputs": [
        {
          "output_type": "stream",
          "name": "stdout",
          "text": [
            "root\n",
            " |-- _c0: integer (nullable = true)\n",
            " |-- person_id: integer (nullable = true)\n",
            " |-- sex: string (nullable = true)\n",
            "\n"
          ]
        }
      ]
    },
    {
      "cell_type": "code",
      "source": [
        "df_people_sub = df_people.select('name', \"sex\", 'date of birth')\n"
      ],
      "metadata": {
        "id": "qVxmUpkHE49X"
      },
      "execution_count": 59,
      "outputs": []
    },
    {
      "cell_type": "code",
      "source": [
        "df_people_sub.show(10)\n"
      ],
      "metadata": {
        "colab": {
          "base_uri": "https://localhost:8080/"
        },
        "id": "j0_omUlBE66q",
        "outputId": "4e41a66c-d040-406c-f6d2-985fec16baee"
      },
      "execution_count": 60,
      "outputs": [
        {
          "output_type": "stream",
          "name": "stdout",
          "text": [
            "+----------------+------+-------------+\n",
            "|            name|   sex|date of birth|\n",
            "+----------------+------+-------------+\n",
            "|  Penelope Lewis|female|   1990-08-31|\n",
            "|   David Anthony|  male|   1971-10-14|\n",
            "|       Ida Shipp|female|   1962-05-24|\n",
            "|    Joanna Moore|female|   2017-03-10|\n",
            "|  Lisandra Ortiz|female|   2020-08-05|\n",
            "|   David Simmons|  male|   1999-12-30|\n",
            "|   Edward Hudson|  male|   1983-05-09|\n",
            "|    Albert Jones|  male|   1990-09-13|\n",
            "|Leonard Cavender|  male|   1958-08-08|\n",
            "|  Everett Vadala|  male|   2005-05-24|\n",
            "+----------------+------+-------------+\n",
            "only showing top 10 rows\n",
            "\n"
          ]
        }
      ]
    },
    {
      "cell_type": "code",
      "source": [
        "df_people_sub_nodup = df_people_sub.dropDuplicates()\n"
      ],
      "metadata": {
        "id": "HuhU7wjhFAq5"
      },
      "execution_count": 61,
      "outputs": []
    },
    {
      "cell_type": "code",
      "source": [
        "print(\"Before removing duplicates:\", df_people_sub.count())\n",
        "print(\"After removing dublicates:\", df_people_sub_nodup.count())"
      ],
      "metadata": {
        "colab": {
          "base_uri": "https://localhost:8080/"
        },
        "id": "1R69AyzXFDA9",
        "outputId": "17d07d1f-8626-4997-fc39-703894b1f97f"
      },
      "execution_count": 62,
      "outputs": [
        {
          "output_type": "stream",
          "name": "stdout",
          "text": [
            "Before removing duplicates: 100000\n",
            "After removing dublicates: 99998\n"
          ]
        }
      ]
    },
    {
      "cell_type": "code",
      "source": [
        "df_people_female = df_people.filter(df_people.sex == \"female\")\n",
        "df_people_male = df_people.filter(df_people.sex == \"male\")"
      ],
      "metadata": {
        "id": "W1vf6CmAFGlL"
      },
      "execution_count": 63,
      "outputs": []
    },
    {
      "cell_type": "code",
      "source": [
        "df_people_female.count()"
      ],
      "metadata": {
        "colab": {
          "base_uri": "https://localhost:8080/"
        },
        "id": "SK0V9iMLFIje",
        "outputId": "8be3adba-24cc-43d8-93e4-cdd2229998fa"
      },
      "execution_count": 64,
      "outputs": [
        {
          "output_type": "execute_result",
          "data": {
            "text/plain": [
              "49014"
            ]
          },
          "metadata": {},
          "execution_count": 64
        }
      ]
    },
    {
      "cell_type": "code",
      "source": [
        "df_people_female.show(5)"
      ],
      "metadata": {
        "colab": {
          "base_uri": "https://localhost:8080/"
        },
        "id": "y0OK1JnkFKWC",
        "outputId": "90cf22f3-2101-4490-efb1-60869a75275e"
      },
      "execution_count": 65,
      "outputs": [
        {
          "output_type": "stream",
          "name": "stdout",
          "text": [
            "+---+---------+-----------------+------+-------------+\n",
            "|_c0|person_id|             name|   sex|date of birth|\n",
            "+---+---------+-----------------+------+-------------+\n",
            "|  0|      100|   Penelope Lewis|female|   1990-08-31|\n",
            "|  2|      102|        Ida Shipp|female|   1962-05-24|\n",
            "|  3|      103|     Joanna Moore|female|   2017-03-10|\n",
            "|  4|      104|   Lisandra Ortiz|female|   2020-08-05|\n",
            "| 11|      111|Annabelle Rosseau|female|   1989-07-13|\n",
            "+---+---------+-----------------+------+-------------+\n",
            "only showing top 5 rows\n",
            "\n"
          ]
        }
      ]
    },
    {
      "cell_type": "code",
      "source": [
        "df_people_sex = df_people.groupby(\"sex\")\n",
        "df_people_sex.count().show()"
      ],
      "metadata": {
        "colab": {
          "base_uri": "https://localhost:8080/"
        },
        "id": "qT1PlJn9FNOb",
        "outputId": "2c678589-1e26-465f-ca80-fc5ec5d5972a"
      },
      "execution_count": 66,
      "outputs": [
        {
          "output_type": "stream",
          "name": "stdout",
          "text": [
            "+------+-----+\n",
            "|   sex|count|\n",
            "+------+-----+\n",
            "|  null| 1920|\n",
            "|female|49014|\n",
            "|  male|49066|\n",
            "+------+-----+\n",
            "\n"
          ]
        }
      ]
    },
    {
      "cell_type": "code",
      "source": [
        "df_people.orderBy(\"date of birth\").show(3)"
      ],
      "metadata": {
        "colab": {
          "base_uri": "https://localhost:8080/"
        },
        "id": "AhtFQuKRFRON",
        "outputId": "8242968b-f5b7-43d9-c363-21eabc1b86ef"
      },
      "execution_count": 67,
      "outputs": [
        {
          "output_type": "stream",
          "name": "stdout",
          "text": [
            "+-----+---------+---------------+------+-------------+\n",
            "|  _c0|person_id|           name|   sex|date of birth|\n",
            "+-----+---------+---------------+------+-------------+\n",
            "|57359|    57459|   Sharon Perez|female|   1899-08-28|\n",
            "|62233|    62333|Martina Morison|female|   1901-04-21|\n",
            "|96318|    96418|   Lisa Garrett|female|   1901-05-09|\n",
            "+-----+---------+---------------+------+-------------+\n",
            "only showing top 3 rows\n",
            "\n"
          ]
        }
      ]
    },
    {
      "cell_type": "code",
      "source": [
        "df_people = df_people.withColumnRenamed(\"date of birth\", \"birth\")\n",
        "df_people.show(3)"
      ],
      "metadata": {
        "colab": {
          "base_uri": "https://localhost:8080/"
        },
        "id": "aJ_z4UyWFUlh",
        "outputId": "60b9f34a-b458-4b88-a295-03b7e9bbf7ff"
      },
      "execution_count": 68,
      "outputs": [
        {
          "output_type": "stream",
          "name": "stdout",
          "text": [
            "+---+---------+--------------+------+----------+\n",
            "|_c0|person_id|          name|   sex|     birth|\n",
            "+---+---------+--------------+------+----------+\n",
            "|  0|      100|Penelope Lewis|female|1990-08-31|\n",
            "|  1|      101| David Anthony|  male|1971-10-14|\n",
            "|  2|      102|     Ida Shipp|female|1962-05-24|\n",
            "+---+---------+--------------+------+----------+\n",
            "only showing top 3 rows\n",
            "\n"
          ]
        }
      ]
    },
    {
      "cell_type": "markdown",
      "source": [
        "# **Using SQL queries with DataFrames by using Spark SQL module**\n",
        "We can also use SQL queries to achieve the same things with DataFrames. Firstly, we should create temporary table by using createOrReplaceTempView method. We should give the name of temporary table as an argument to the method. Then, we can give any query we want to execute to SparkSession's sql method as an argument. Look at the following example."
      ],
      "metadata": {
        "id": "yJk4bdNuFY-f"
      }
    },
    {
      "cell_type": "code",
      "source": [
        "path_people=\"/content/people.csv\"\n",
        "df_people = spark.read.csv(path_people, header=True, inferSchema=True)\n",
        "df_people = df_people.withColumnRenamed(\"date of birth\", \"birth\")\n",
        "df_people.createOrReplaceTempView(\"people\")"
      ],
      "metadata": {
        "id": "0WrLnwUvFd8K"
      },
      "execution_count": 69,
      "outputs": []
    },
    {
      "cell_type": "code",
      "source": [
        "query='DESCRIBE people'\n",
        "spark.sql(query).show(10)"
      ],
      "metadata": {
        "colab": {
          "base_uri": "https://localhost:8080/"
        },
        "id": "73U5AyiyFmZH",
        "outputId": "40467182-5a7b-457a-874d-8791c2333315"
      },
      "execution_count": 70,
      "outputs": [
        {
          "output_type": "stream",
          "name": "stdout",
          "text": [
            "+---------+---------+-------+\n",
            "| col_name|data_type|comment|\n",
            "+---------+---------+-------+\n",
            "|      _c0|      int|   null|\n",
            "|person_id|      int|   null|\n",
            "|     name|   string|   null|\n",
            "|      sex|   string|   null|\n",
            "|    birth|   string|   null|\n",
            "+---------+---------+-------+\n",
            "\n"
          ]
        }
      ]
    },
    {
      "cell_type": "code",
      "source": [
        "query=\"\"\"SELECT name, birth FROM people WHERE sex==\"male\" ORDER BY `birth`\"\"\"\n",
        "\n",
        "df_people_names = spark.sql(query)\n",
        "df_people_names.show(10)"
      ],
      "metadata": {
        "colab": {
          "base_uri": "https://localhost:8080/"
        },
        "id": "B991TBlEFotS",
        "outputId": "dde66545-a2b4-407f-dae4-396d2600b9b8"
      },
      "execution_count": 71,
      "outputs": [
        {
          "output_type": "stream",
          "name": "stdout",
          "text": [
            "+---------------+----------+\n",
            "|           name|     birth|\n",
            "+---------------+----------+\n",
            "|   Tyler Walton|1903-07-14|\n",
            "|  Daniel Naiman|1903-11-07|\n",
            "|   John Merritt|1906-11-04|\n",
            "|   Roger Watkin|1907-12-08|\n",
            "|     Tim Makris|1909-07-11|\n",
            "|    Jeremy Jost|1910-04-14|\n",
            "|  Fredrick Nass|1911-01-12|\n",
            "|     Shaun King|1911-03-27|\n",
            "|Mitchell Martin|1911-07-06|\n",
            "|   Daniel Rutan|1911-08-09|\n",
            "+---------------+----------+\n",
            "only showing top 10 rows\n",
            "\n"
          ]
        }
      ]
    },
    {
      "cell_type": "code",
      "source": [
        "query='SELECT name, `birth` FROM people WHERE `birth` BETWEEN \"1903-01-01\" AND \"1911-12-31\" ORDER BY `birth`'\n",
        "\n",
        "df_people_1903_1906 = spark.sql(query)\n",
        "df_people_1903_1906.show(10)"
      ],
      "metadata": {
        "colab": {
          "base_uri": "https://localhost:8080/"
        },
        "id": "9hPsxJ5pFt6r",
        "outputId": "7fea5146-3990-4249-9927-b4032825b401"
      },
      "execution_count": 72,
      "outputs": [
        {
          "output_type": "stream",
          "name": "stdout",
          "text": [
            "+---------------+----------+\n",
            "|           name|     birth|\n",
            "+---------------+----------+\n",
            "|   Tyler Walton|1903-07-14|\n",
            "|  Daniel Naiman|1903-11-07|\n",
            "| Christy Dawson|1904-01-11|\n",
            "|   John Merritt|1906-11-04|\n",
            "|   Roger Watkin|1907-12-08|\n",
            "|   Marie Givens|1908-02-15|\n",
            "|Maribel Donahoe|1908-11-27|\n",
            "|    Paula Evans|1909-02-10|\n",
            "|     Tim Makris|1909-07-11|\n",
            "|   Joyce Jacoby|1909-09-13|\n",
            "+---------------+----------+\n",
            "only showing top 10 rows\n",
            "\n"
          ]
        }
      ]
    },
    {
      "cell_type": "code",
      "source": [
        "query='SELECT sex,COUNT(sex) FROM people WHERE birth BETWEEN \"1903-01-01\" AND \"1911-12-31\" GROUP BY sex'\n",
        "df_people_1903_1906_sex = spark.sql(query)\n",
        "df_people_1903_1906_sex.show()"
      ],
      "metadata": {
        "colab": {
          "base_uri": "https://localhost:8080/"
        },
        "id": "i8sjMYFnFwx9",
        "outputId": "c5c6df33-780a-408d-e648-ac0fa097f830"
      },
      "execution_count": 73,
      "outputs": [
        {
          "output_type": "stream",
          "name": "stdout",
          "text": [
            "+------+----------+\n",
            "|   sex|count(sex)|\n",
            "+------+----------+\n",
            "|female|         7|\n",
            "|  male|        10|\n",
            "+------+----------+\n",
            "\n"
          ]
        }
      ]
    },
    {
      "cell_type": "markdown",
      "source": [
        "# **Create RDD from external file**\n",
        "The second and mostly used way to create RDD is from external dataset. To do this, we can use SparkContext's textFile method. In the following example, we use 5000_points.txt dataset. To do this, we use path to dataset as an argument to textFile method."
      ],
      "metadata": {
        "id": "xvoqHK9dF0uO"
      }
    },
    {
      "cell_type": "code",
      "source": [
        "# load the 5000_points dataset into a rdd named clusterRDD\n",
        "clusterRDD = sc.textFile(path_5000)\n",
        "#NOT clusterRDD.show(10)\n",
        "clusterRDD.take(10)"
      ],
      "metadata": {
        "colab": {
          "base_uri": "https://localhost:8080/"
        },
        "id": "BRS3CWokF0Xm",
        "outputId": "714ebd92-fb82-4676-dbb5-684258403dbe"
      },
      "execution_count": 74,
      "outputs": [
        {
          "output_type": "execute_result",
          "data": {
            "text/plain": [
              "['664159\\t550946',\n",
              " '665845\\t557965',\n",
              " '597173\\t575538',\n",
              " '618600\\t551446',\n",
              " '635690\\t608046',\n",
              " '588100\\t557588',\n",
              " '582015\\t546191',\n",
              " '604678\\t574577',\n",
              " '572029\\t518313',\n",
              " '604737\\t574591']"
            ]
          },
          "metadata": {},
          "execution_count": 74
        }
      ]
    },
    {
      "cell_type": "code",
      "source": [
        "clusterRDD.getNumPartitions()"
      ],
      "metadata": {
        "colab": {
          "base_uri": "https://localhost:8080/"
        },
        "id": "hHoSAE7yF54E",
        "outputId": "cea0fbf2-3f41-409d-edb5-b026fdd26d6b"
      },
      "execution_count": 75,
      "outputs": [
        {
          "output_type": "execute_result",
          "data": {
            "text/plain": [
              "2"
            ]
          },
          "metadata": {},
          "execution_count": 75
        }
      ]
    },
    {
      "cell_type": "code",
      "source": [
        "clusterRDD = sc.textFile(path_5000,  minPartitions = 5)\n"
      ],
      "metadata": {
        "id": "rY_13TeqF8I5"
      },
      "execution_count": 76,
      "outputs": []
    },
    {
      "cell_type": "code",
      "source": [
        "clusterRDD.getNumPartitions()"
      ],
      "metadata": {
        "colab": {
          "base_uri": "https://localhost:8080/"
        },
        "id": "Wi_m1qOYF9qK",
        "outputId": "fa20a9b7-5a31-479d-e175-df83d6508d36"
      },
      "execution_count": 77,
      "outputs": [
        {
          "output_type": "execute_result",
          "data": {
            "text/plain": [
              "5"
            ]
          },
          "metadata": {},
          "execution_count": 77
        }
      ]
    },
    {
      "cell_type": "code",
      "source": [
        "clusterRDD.take(5)\n"
      ],
      "metadata": {
        "colab": {
          "base_uri": "https://localhost:8080/"
        },
        "id": "XVsE3vxJF_sn",
        "outputId": "1922f1a6-d406-43d0-b7a0-fc80752a8cdb"
      },
      "execution_count": 78,
      "outputs": [
        {
          "output_type": "execute_result",
          "data": {
            "text/plain": [
              "['664159\\t550946',\n",
              " '665845\\t557965',\n",
              " '597173\\t575538',\n",
              " '618600\\t551446',\n",
              " '635690\\t608046']"
            ]
          },
          "metadata": {},
          "execution_count": 78
        }
      ]
    },
    {
      "cell_type": "markdown",
      "source": [
        "We can transform this rdd by splitting the lines based on the tab.\n",
        "\n"
      ],
      "metadata": {
        "id": "GsWnIHK6GB7X"
      }
    },
    {
      "cell_type": "code",
      "source": [
        "rdd_split = clusterRDD.map(lambda x: x.split(\"\\t\"))\n"
      ],
      "metadata": {
        "id": "1hww6JsmGC17"
      },
      "execution_count": 79,
      "outputs": []
    },
    {
      "cell_type": "code",
      "source": [
        "rdd_split.take(5)"
      ],
      "metadata": {
        "colab": {
          "base_uri": "https://localhost:8080/"
        },
        "id": "qPQReTgkGF6Q",
        "outputId": "e9d73fb8-d105-4000-9d2a-0a8ad06faf5b"
      },
      "execution_count": 80,
      "outputs": [
        {
          "output_type": "execute_result",
          "data": {
            "text/plain": [
              "[['664159', '550946'],\n",
              " ['665845', '557965'],\n",
              " ['597173', '575538'],\n",
              " ['618600', '551446'],\n",
              " ['635690', '608046']]"
            ]
          },
          "metadata": {},
          "execution_count": 80
        }
      ]
    },
    {
      "cell_type": "code",
      "source": [
        "rdd_split_int = rdd_split.map(lambda x: [int(x[0]), int(x[1])])\n"
      ],
      "metadata": {
        "id": "77d42WjLGKuW"
      },
      "execution_count": 81,
      "outputs": []
    },
    {
      "cell_type": "code",
      "source": [
        "rdd_split_int.take(5)"
      ],
      "metadata": {
        "colab": {
          "base_uri": "https://localhost:8080/"
        },
        "id": "9BtgY9rvGM80",
        "outputId": "b679e569-391d-4580-9c10-077d36e074da"
      },
      "execution_count": 82,
      "outputs": [
        {
          "output_type": "execute_result",
          "data": {
            "text/plain": [
              "[[664159, 550946],\n",
              " [665845, 557965],\n",
              " [597173, 575538],\n",
              " [618600, 551446],\n",
              " [635690, 608046]]"
            ]
          },
          "metadata": {},
          "execution_count": 82
        }
      ]
    },
    {
      "cell_type": "markdown",
      "source": [
        "# **Machine Learning with PySpark MLlib**\n",
        "PySpark MLlib is the Apache Spark's scalable machine learning library in Python consisting of common learning algorithms and utilities. We use Kmeans algorithm of MLlib library to cluster data in 5000_points.txt dataset. First, we should define error method to calculate distance from every point to center of its clusters which the points belong to."
      ],
      "metadata": {
        "id": "cPzBD7QpGQd_"
      }
    },
    {
      "cell_type": "code",
      "source": [
        "def error(point):\n",
        "    center = model.centers[model.predict(point)]\n",
        "    return sqrt(sum([x**2 for x in (point - center)]))"
      ],
      "metadata": {
        "id": "ejQGFuK9GQQh"
      },
      "execution_count": 83,
      "outputs": []
    },
    {
      "cell_type": "markdown",
      "source": [
        "We train the model with 4 different number of clusters from 13 to 16 and then calculate the error for all of them. As you see in the output, 16 clusters give minimum error. We retrain the model with the number of cluster with the smallest error. We then use clusterCenters attribute to see the center of all clusters."
      ],
      "metadata": {
        "id": "VUsTNw99GVyd"
      }
    },
    {
      "cell_type": "code",
      "source": [
        "from math import sqrt\n",
        "from pyspark.mllib.clustering import KMeans\n",
        "# Train the model with clusters from 13 to 16 and compute SSE\n",
        "temp = 0\n",
        "cluster = 0\n",
        "for clst in range(13, 17):\n",
        "    model = KMeans.train(rdd_split_int, clst, seed=1)\n",
        "    SSE = rdd_split_int.map(lambda point: error(point)).reduce(lambda x, y: x + y) \n",
        "    while temp > SSE or temp == 0:\n",
        "        temp = SSE\n",
        "        cluster = clst\n",
        "    print(\"The cluster\", clst, \"has Sum of Squared Error\", SSE)\n",
        "\n",
        "\n",
        "print(\"\\ncluster\", cluster)\n",
        "print(\"SSE:\", temp)\n",
        "\n",
        "\n",
        "# Train the model again with the best k \n",
        "model = KMeans.train(rdd_split_int, k=cluster, seed=1)\n",
        "\n",
        "# Get cluster centers\n",
        "cluster_centers = model.clusterCenters"
      ],
      "metadata": {
        "colab": {
          "base_uri": "https://localhost:8080/"
        },
        "id": "45mQDUjJGYly",
        "outputId": "194ada41-5917-4a10-ba48-90e8fa47b205"
      },
      "execution_count": 85,
      "outputs": [
        {
          "output_type": "stream",
          "name": "stdout",
          "text": [
            "The cluster 13 has Sum of Squared Error 247695647.89233023\n",
            "The cluster 14 has Sum of Squared Error 251668177.0509325\n",
            "The cluster 15 has Sum of Squared Error 249952708.50382334\n",
            "The cluster 16 has Sum of Squared Error 168449816.78242967\n",
            "\n",
            "cluster 16\n",
            "SSE: 168449816.78242967\n"
          ]
        }
      ]
    },
    {
      "cell_type": "markdown",
      "source": [
        "We can again use SparkSession's createDataFrame method to create DataFrame from rdd. We must convert PySpark DataFrame to Pandas DataFrame in order to visualise data. To do this, we can use toPandas method. We create another Pandas DataFrame from cluster centers list. Then, using matplotlib's scatter method, we can make plot for clusters and their centers."
      ],
      "metadata": {
        "id": "xJK45hV3GpW4"
      }
    },
    {
      "cell_type": "code",
      "source": [
        "rdd_split_int_df = spark.createDataFrame(rdd_split_int, schema=[\"col1\", \"col2\"])\n",
        "\n",
        "rdd_split_int_df_pandas = rdd_split_int_df.toPandas()\n",
        "\n",
        "cluster_centers_pandas = pd.DataFrame(cluster_centers, columns=[\"col1\", \"col2\"])\n",
        "\n",
        "plt.scatter(rdd_split_int_df_pandas[\"col1\"], rdd_split_int_df_pandas[\"col2\"])\n",
        "plt.scatter(cluster_centers_pandas[\"col1\"], cluster_centers_pandas[\"col2\"], color=\"red\", marker=\"x\")\n",
        "plt.show()"
      ],
      "metadata": {
        "colab": {
          "base_uri": "https://localhost:8080/",
          "height": 371
        },
        "id": "zg4EbIPeGlIf",
        "outputId": "4f033954-2e12-4377-c280-c173112cad41"
      },
      "execution_count": 86,
      "outputs": [
        {
          "output_type": "display_data",
          "data": {
            "text/plain": [
              "<Figure size 576x396 with 1 Axes>"
            ],
            "image/png": "[encoded data removed]"
          },
          "metadata": {}
        }
      ]
    },
    {
      "cell_type": "markdown",
      "source": [
        "## **Conclusion**\n",
        "This tutorial discusses Big Data via PySpark, a Python package for spark programming. In this tutorial, I explained SparkContext, using map and filter methods with Lambda functions in Python, creating rdd from object and external file, transformations and actions on rdd and pair rdd, SparkSession, creating PySpark Dataframe from rdd and external file, using sql queries with Dataframes by using Spark SQL module and finally, machine learning with PySpark MLlib library."
      ],
      "metadata": {
        "id": "8rJaw1HtGr9n"
      }
    },
    {
      "cell_type": "code",
      "source": [
        "#Converting between Pandas DF, Spark DF and RDD\n",
        "# load the 5000_points dataset into a rdd named clusterRDD\n",
        "spRDD = sc.textFile(path_5000)\n",
        "#NOT clusterRDD.show(10)\n",
        "spRDD.take(10)\n",
        "# RDD to Spark DataFrame\n",
        "spRDD = spRDD.map(lambda x: x.split(\"\\t\"))\n",
        "spRDD = spRDD.map(lambda x: [int(x[0]), int(x[1])])\n",
        "spRDD.take(10)\n",
        "\n",
        "#Convert to Spark DF\n",
        "sparkDF = spRDD.toDF()\n",
        "sparkDF.show(10)\n",
        "\n",
        "#Convert to Pandas DF\n",
        "pdDF = sparkDF.toPandas()\n",
        "pdDF.head(10)"
      ],
      "metadata": {
        "colab": {
          "base_uri": "https://localhost:8080/",
          "height": 601
        },
        "id": "IJF_FTTIGums",
        "outputId": "57094684-d935-400d-bd8e-7a58ea98ee14"
      },
      "execution_count": 87,
      "outputs": [
        {
          "output_type": "stream",
          "name": "stdout",
          "text": [
            "+------+------+\n",
            "|    _1|    _2|\n",
            "+------+------+\n",
            "|664159|550946|\n",
            "|665845|557965|\n",
            "|597173|575538|\n",
            "|618600|551446|\n",
            "|635690|608046|\n",
            "|588100|557588|\n",
            "|582015|546191|\n",
            "|604678|574577|\n",
            "|572029|518313|\n",
            "|604737|574591|\n",
            "+------+------+\n",
            "only showing top 10 rows\n",
            "\n"
          ]
        },
        {
          "output_type": "execute_result",
          "data": {
            "text/plain": [
              "       _1      _2\n",
              "0  664159  550946\n",
              "1  665845  557965\n",
              "2  597173  575538\n",
              "3  618600  551446\n",
              "4  635690  608046\n",
              "5  588100  557588\n",
              "6  582015  546191\n",
              "7  604678  574577\n",
              "8  572029  518313\n",
              "9  604737  574591"
            ],
            "text/html": [
              "\n",
              "  <div id=\"df-fb83c6c0-fe8e-4312-91d5-45e9cebba0f1\">\n",
              "    <div class=\"colab-df-container\">\n",
              "      <div>\n",
              "<style scoped>\n",
              "    .dataframe tbody tr th:only-of-type {\n",
              "        vertical-align: middle;\n",
              "    }\n",
              "\n",
              "    .dataframe tbody tr th {\n",
              "        vertical-align: top;\n",
              "    }\n",
              "\n",
              "    .dataframe thead th {\n",
              "        text-align: right;\n",
              "    }\n",
              "</style>\n",
              "<table border=\"1\" class=\"dataframe\">\n",
              "  <thead>\n",
              "    <tr style=\"text-align: right;\">\n",
              "      <th></th>\n",
              "      <th>_1</th>\n",
              "      <th>_2</th>\n",
              "    </tr>\n",
              "  </thead>\n",
              "  <tbody>\n",
              "    <tr>\n",
              "      <th>0</th>\n",
              "      <td>664159</td>\n",
              "      <td>550946</td>\n",
              "    </tr>\n",
              "    <tr>\n",
              "      <th>1</th>\n",
              "      <td>665845</td>\n",
              "      <td>557965</td>\n",
              "    </tr>\n",
              "    <tr>\n",
              "      <th>2</th>\n",
              "      <td>597173</td>\n",
              "      <td>575538</td>\n",
              "    </tr>\n",
              "    <tr>\n",
              "      <th>3</th>\n",
              "      <td>618600</td>\n",
              "      <td>551446</td>\n",
              "    </tr>\n",
              "    <tr>\n",
              "      <th>4</th>\n",
              "      <td>635690</td>\n",
              "      <td>608046</td>\n",
              "    </tr>\n",
              "    <tr>\n",
              "      <th>5</th>\n",
              "      <td>588100</td>\n",
              "      <td>557588</td>\n",
              "    </tr>\n",
              "    <tr>\n",
              "      <th>6</th>\n",
              "      <td>582015</td>\n",
              "      <td>546191</td>\n",
              "    </tr>\n",
              "    <tr>\n",
              "      <th>7</th>\n",
              "      <td>604678</td>\n",
              "      <td>574577</td>\n",
              "    </tr>\n",
              "    <tr>\n",
              "      <th>8</th>\n",
              "      <td>572029</td>\n",
              "      <td>518313</td>\n",
              "    </tr>\n",
              "    <tr>\n",
              "      <th>9</th>\n",
              "      <td>604737</td>\n",
              "      <td>574591</td>\n",
              "    </tr>\n",
              "  </tbody>\n",
              "</table>\n",
              "</div>\n",
              "      <button class=\"colab-df-convert\" onclick=\"convertToInteractive('df-fb83c6c0-fe8e-4312-91d5-45e9cebba0f1')\"\n",
              "              title=\"Convert this dataframe to an interactive table.\"\n",
              "              style=\"display:none;\">\n",
              "        \n",
              "  <svg xmlns=\"http://www.w3.org/2000/svg\" height=\"24px\"viewBox=\"0 0 24 24\"\n",
              "       width=\"24px\">\n",
              "    <path d=\"M0 0h24v24H0V0z\" fill=\"none\"/>\n",
              "    <path d=\"M18.56 5.44l.94 2.06.94-2.06 2.06-.94-2.06-.94-.94-2.06-.94 2.06-2.06.94zm-11 1L8.5 8.5l.94-2.06 2.06-.94-2.06-.94L8.5 2.5l-.94 2.06-2.06.94zm10 10l.94 2.06.94-2.06 2.06-.94-2.06-.94-.94-2.06-.94 2.06-2.06.94z\"/><path d=\"M17.41 7.96l-1.37-1.37c-.4-.4-.92-.59-1.43-.59-.52 0-1.04.2-1.43.59L10.3 9.45l-7.72 7.72c-.78.78-.78 2.05 0 2.83L4 21.41c.39.39.9.59 1.41.59.51 0 1.02-.2 1.41-.59l7.78-7.78 2.81-2.81c.8-.78.8-2.07 0-2.86zM5.41 20L4 18.59l7.72-7.72 1.47 1.35L5.41 20z\"/>\n",
              "  </svg>\n",
              "      </button>\n",
              "      \n",
              "  <style>\n",
              "    .colab-df-container {\n",
              "      display:flex;\n",
              "      flex-wrap:wrap;\n",
              "      gap: 12px;\n",
              "    }\n",
              "\n",
              "    .colab-df-convert {\n",
              "      background-color: #E8F0FE;\n",
              "      border: none;\n",
              "      border-radius: 50%;\n",
              "      cursor: pointer;\n",
              "      display: none;\n",
              "      fill: #1967D2;\n",
              "      height: 32px;\n",
              "      padding: 0 0 0 0;\n",
              "      width: 32px;\n",
              "    }\n",
              "\n",
              "    .colab-df-convert:hover {\n",
              "      background-color: #E2EBFA;\n",
              "      box-shadow: 0px 1px 2px rgba(60, 64, 67, 0.3), 0px 1px 3px 1px rgba(60, 64, 67, 0.15);\n",
              "      fill: #174EA6;\n",
              "    }\n",
              "\n",
              "    [theme=dark] .colab-df-convert {\n",
              "      background-color: #3B4455;\n",
              "      fill: #D2E3FC;\n",
              "    }\n",
              "\n",
              "    [theme=dark] .colab-df-convert:hover {\n",
              "      background-color: #434B5C;\n",
              "      box-shadow: 0px 1px 3px 1px rgba(0, 0, 0, 0.15);\n",
              "      filter: drop-shadow(0px 1px 2px rgba(0, 0, 0, 0.3));\n",
              "      fill: #FFFFFF;\n",
              "    }\n",
              "  </style>\n",
              "\n",
              "      <script>\n",
              "        const buttonEl =\n",
              "          document.querySelector('#df-fb83c6c0-fe8e-4312-91d5-45e9cebba0f1 button.colab-df-convert');\n",
              "        buttonEl.style.display =\n",
              "          google.colab.kernel.accessAllowed ? 'block' : 'none';\n",
              "\n",
              "        async function convertToInteractive(key) {\n",
              "          const element = document.querySelector('#df-fb83c6c0-fe8e-4312-91d5-45e9cebba0f1');\n",
              "          const dataTable =\n",
              "            await google.colab.kernel.invokeFunction('convertToInteractive',\n",
              "                                                     [key], {});\n",
              "          if (!dataTable) return;\n",
              "\n",
              "          const docLinkHtml = 'Like what you see? Visit the ' +\n",
              "            '<a target=\"_blank\" href=https://colab.research.google.com/notebooks/data_table.ipynb>data table notebook</a>'\n",
              "            + ' to learn more about interactive tables.';\n",
              "          element.innerHTML = '';\n",
              "          dataTable['output_type'] = 'display_data';\n",
              "          await google.colab.output.renderOutput(dataTable, element);\n",
              "          const docLink = document.createElement('div');\n",
              "          docLink.innerHTML = docLinkHtml;\n",
              "          element.appendChild(docLink);\n",
              "        }\n",
              "      </script>\n",
              "    </div>\n",
              "  </div>\n",
              "  "
            ]
          },
          "metadata": {},
          "execution_count": 87
        }
      ]
    },
    {
      "cell_type": "code",
      "source": [
        "#Converting between Pandas DF, Spark DF and RDD\n",
        "#Converting Pandas DF to Spaek DF\n",
        "spDF_2 = sqlContext.createDataFrame(pdDF)\n",
        "spDF_2.show(10)\n",
        "\n",
        "pdDF.head(10)\n",
        "\n",
        "#Accesing RDD\n",
        "spRDD_2=spDF_2.rdd\n",
        "spRDD_2.take(10)"
      ],
      "metadata": {
        "colab": {
          "base_uri": "https://localhost:8080/"
        },
        "id": "kr07IiOgG6sn",
        "outputId": "4bbbf056-1896-4124-f562-58f955cda05d"
      },
      "execution_count": 88,
      "outputs": [
        {
          "output_type": "stream",
          "name": "stdout",
          "text": [
            "+------+------+\n",
            "|    _1|    _2|\n",
            "+------+------+\n",
            "|664159|550946|\n",
            "|665845|557965|\n",
            "|597173|575538|\n",
            "|618600|551446|\n",
            "|635690|608046|\n",
            "|588100|557588|\n",
            "|582015|546191|\n",
            "|604678|574577|\n",
            "|572029|518313|\n",
            "|604737|574591|\n",
            "+------+------+\n",
            "only showing top 10 rows\n",
            "\n"
          ]
        },
        {
          "output_type": "execute_result",
          "data": {
            "text/plain": [
              "[Row(_1=664159, _2=550946),\n",
              " Row(_1=665845, _2=557965),\n",
              " Row(_1=597173, _2=575538),\n",
              " Row(_1=618600, _2=551446),\n",
              " Row(_1=635690, _2=608046),\n",
              " Row(_1=588100, _2=557588),\n",
              " Row(_1=582015, _2=546191),\n",
              " Row(_1=604678, _2=574577),\n",
              " Row(_1=572029, _2=518313),\n",
              " Row(_1=604737, _2=574591)]"
            ]
          },
          "metadata": {},
          "execution_count": 88
        }
      ]
    }
  ]
}